{
 "cells": [
  {
   "cell_type": "code",
   "execution_count": 127,
   "metadata": {},
   "outputs": [],
   "source": [
    "import pandas as pd\n",
    "from ressources.not_found_tc import NotFoundTeamcenter"
   ]
  },
  {
   "cell_type": "code",
   "execution_count": null,
   "metadata": {},
   "outputs": [],
   "source": []
  },
  {
   "cell_type": "code",
   "execution_count": 128,
   "metadata": {},
   "outputs": [],
   "source": [
    "# Import reports\n",
    "fasteners = pd.read_excel('exportBoulonnerie.xlsx')"
   ]
  },
  {
   "cell_type": "code",
   "execution_count": 129,
   "metadata": {},
   "outputs": [],
   "source": [
    "# Filter rows \n",
    "fasteners = fasteners[~(fasteners.STOCKINGTYPE=='O')]"
   ]
  },
  {
   "cell_type": "code",
   "execution_count": 130,
   "metadata": {},
   "outputs": [],
   "source": [
    "#strip COLUMNS in df fasteners:\n",
    "fasteners['ITEMNO'] = fasteners.ITEMNO.str.strip()\n",
    "# fasteners['TYPECONVERSION'] = fasteners.TYPECONVERSION.str.strip()\n",
    "fasteners['ITEMCONVERTI'] = fasteners.ITEMCONVERTI.str.strip()"
   ]
  },
  {
   "cell_type": "code",
   "execution_count": 131,
   "metadata": {},
   "outputs": [],
   "source": [
    "fasteners = fasteners[[\n",
    "    'ITEMNO',\n",
    "#     'DESC1',\n",
    "#     'DESC2',\n",
    "#     'SEARCHTEXT',\n",
    "#     'STOCKINGTYPE',\n",
    "    'TYPECONVERSION',\n",
    "    'ITEMCONVERTI',\n",
    "#     'DESC1_1',\n",
    "#     'DESC2_1',\n",
    "#     'SEARCHTEXT_1',\n",
    "#     'STOCKINGTYPE_1'\n",
    "]]"
   ]
  },
  {
   "cell_type": "code",
   "execution_count": 132,
   "metadata": {},
   "outputs": [],
   "source": [
    "fasteners['ITEMNO'] = fasteners.ITEMNO.astype('str')"
   ]
  },
  {
   "cell_type": "code",
   "execution_count": 133,
   "metadata": {},
   "outputs": [],
   "source": [
    "# fasteners = fasteners.set_index(['ITEMNO','TYPECONVERSION'])\n",
    "# fasteners = fasteners.set_index(['ITEMNO'])"
   ]
  },
  {
   "cell_type": "code",
   "execution_count": 134,
   "metadata": {},
   "outputs": [
    {
     "data": {
      "text/html": [
       "<div>\n",
       "<style scoped>\n",
       "    .dataframe tbody tr th:only-of-type {\n",
       "        vertical-align: middle;\n",
       "    }\n",
       "\n",
       "    .dataframe tbody tr th {\n",
       "        vertical-align: top;\n",
       "    }\n",
       "\n",
       "    .dataframe thead th {\n",
       "        text-align: right;\n",
       "    }\n",
       "</style>\n",
       "<table border=\"1\" class=\"dataframe\">\n",
       "  <thead>\n",
       "    <tr style=\"text-align: right;\">\n",
       "      <th></th>\n",
       "      <th>ITEMNO</th>\n",
       "      <th>TYPECONVERSION</th>\n",
       "      <th>ITEMCONVERTI</th>\n",
       "    </tr>\n",
       "  </thead>\n",
       "  <tbody>\n",
       "    <tr>\n",
       "      <th>0</th>\n",
       "      <td>24101227</td>\n",
       "      <td>5</td>\n",
       "      <td>24101227</td>\n",
       "    </tr>\n",
       "    <tr>\n",
       "      <th>1</th>\n",
       "      <td>24101227</td>\n",
       "      <td>6</td>\n",
       "      <td>24101227</td>\n",
       "    </tr>\n",
       "    <tr>\n",
       "      <th>2</th>\n",
       "      <td>24101008</td>\n",
       "      <td>1</td>\n",
       "      <td>24101008</td>\n",
       "    </tr>\n",
       "    <tr>\n",
       "      <th>3</th>\n",
       "      <td>24101008</td>\n",
       "      <td>2</td>\n",
       "      <td>107233</td>\n",
       "    </tr>\n",
       "    <tr>\n",
       "      <th>4</th>\n",
       "      <td>24101008</td>\n",
       "      <td>3</td>\n",
       "      <td>117616</td>\n",
       "    </tr>\n",
       "    <tr>\n",
       "      <th>...</th>\n",
       "      <td>...</td>\n",
       "      <td>...</td>\n",
       "      <td>...</td>\n",
       "    </tr>\n",
       "    <tr>\n",
       "      <th>16759</th>\n",
       "      <td>24104797</td>\n",
       "      <td>2</td>\n",
       "      <td>24109007</td>\n",
       "    </tr>\n",
       "    <tr>\n",
       "      <th>16760</th>\n",
       "      <td>24104797</td>\n",
       "      <td>3</td>\n",
       "      <td>24104797</td>\n",
       "    </tr>\n",
       "    <tr>\n",
       "      <th>16761</th>\n",
       "      <td>24104797</td>\n",
       "      <td>4</td>\n",
       "      <td>24104797</td>\n",
       "    </tr>\n",
       "    <tr>\n",
       "      <th>16762</th>\n",
       "      <td>24104797</td>\n",
       "      <td>5</td>\n",
       "      <td>24104797</td>\n",
       "    </tr>\n",
       "    <tr>\n",
       "      <th>16763</th>\n",
       "      <td>24104797</td>\n",
       "      <td>6</td>\n",
       "      <td>24104797</td>\n",
       "    </tr>\n",
       "  </tbody>\n",
       "</table>\n",
       "<p>16110 rows × 3 columns</p>\n",
       "</div>"
      ],
      "text/plain": [
       "         ITEMNO  TYPECONVERSION ITEMCONVERTI\n",
       "0      24101227               5     24101227\n",
       "1      24101227               6     24101227\n",
       "2      24101008               1     24101008\n",
       "3      24101008               2       107233\n",
       "4      24101008               3       117616\n",
       "...         ...             ...          ...\n",
       "16759  24104797               2     24109007\n",
       "16760  24104797               3     24104797\n",
       "16761  24104797               4     24104797\n",
       "16762  24104797               5     24104797\n",
       "16763  24104797               6     24104797\n",
       "\n",
       "[16110 rows x 3 columns]"
      ]
     },
     "execution_count": 134,
     "metadata": {},
     "output_type": "execute_result"
    }
   ],
   "source": [
    "fasteners"
   ]
  },
  {
   "cell_type": "code",
   "execution_count": 135,
   "metadata": {},
   "outputs": [],
   "source": [
    "with open('switcher.py','w') as sw:\n",
    "    for itemno, group in fasteners.groupby('ITEMNO'):\n",
    "        if itemno not in NotFoundTeamcenter: \n",
    "            sw.writelines(\"\"\"'{}':{},\\n\"\"\".format(itemno , dict(zip(group.TYPECONVERSION, group.ITEMCONVERTI))))\n",
    "\n"
   ]
  }
 ],
 "metadata": {
  "kernelspec": {
   "display_name": "Python 3",
   "language": "python",
   "name": "python3"
  },
  "language_info": {
   "codemirror_mode": {
    "name": "ipython",
    "version": 3
   },
   "file_extension": ".py",
   "mimetype": "text/x-python",
   "name": "python",
   "nbconvert_exporter": "python",
   "pygments_lexer": "ipython3",
   "version": "3.7.3"
  }
 },
 "nbformat": 4,
 "nbformat_minor": 2
}
